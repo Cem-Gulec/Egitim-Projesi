{
 "cells": [
  {
   "cell_type": "markdown",
   "metadata": {},
   "source": [
    "# Tyche LC Eğitim Projesi"
   ]
  },
  {
   "cell_type": "markdown",
   "metadata": {},
   "source": [
    "Bu eğitim süresince internetten veri çekerek başlayıp şarkılar arası benzerliği şarkı sözlerine göre belirleyen bir tavsiye sisteminin oluşturulması hedeflenmektedir."
   ]
  },
  {
   "cell_type": "markdown",
   "metadata": {},
   "source": [
    "Ders - 1 | 11.12.2018"
   ]
  },
  {
   "cell_type": "markdown",
   "metadata": {},
   "source": [
    "Bu derste selenium ve beautifulsoup kütüphaneleri kullanılarak \"https://www.sarkisozleri.bbs.tr\" adresinden şarkı sözleri çekilmiştir."
   ]
  },
  {
   "cell_type": "markdown",
   "metadata": {},
   "source": [
    "BeautifulSoup kütüphanesini web sitesinin ağaç yapısı içerisinde gezinmek ve istediğimiz element veya elementlere ulaşmak için kullanıyoruz. \n",
    "\n",
    "Detaylı bilgi için: \n",
    "    https://medium.com/python/python-beautifulsoup-mod%C3%BCl%C3%BC-77030b4846a4"
   ]
  },
  {
   "cell_type": "code",
   "execution_count": null,
   "metadata": {},
   "outputs": [],
   "source": [
    "from bs4 import BeautifulSoup as bs "
   ]
  },
  {
   "cell_type": "markdown",
   "metadata": {},
   "source": [
    "Selenium kütüphanesini web sitesinde kod üzerinden işlem yaparak veri çekmek için kullanıyoruz. BeautifulSoup veriyi çektinten sonra kullanıyoruz. \n",
    "\n",
    "Detaylı bilgi için:\n",
    "    https://selenium-python.readthedocs.io/\n",
    "    https://medium.com/python/python-selenium-mod%C3%BCl%C3%BC-kullan%C4%B1m%C4%B1-ders-1-36983185164c"
   ]
  },
  {
   "cell_type": "code",
   "execution_count": null,
   "metadata": {},
   "outputs": [],
   "source": [
    "from selenium import webdriver\n",
    "from selenium.webdriver.common.keys import Keys\n",
    "from selenium.webdriver.firefox import webelement"
   ]
  },
  {
   "cell_type": "markdown",
   "metadata": {},
   "source": [
    "Burada selenium'un sayfasından indirdiğimiz tarayıcı sürücüsünü (browser driver) çalıştırıyoruz."
   ]
  },
  {
   "cell_type": "code",
   "execution_count": null,
   "metadata": {},
   "outputs": [],
   "source": [
    "driver = webdriver.Firefox(executable_path=\"/usr/bin/geckodriver\")"
   ]
  },
  {
   "cell_type": "markdown",
   "metadata": {},
   "source": [
    "Burada ise javascript veya ajax ile sonradan gelen veriler için sayfanın beklemesini istediğimizi söylüyoruz."
   ]
  },
  {
   "cell_type": "code",
   "execution_count": null,
   "metadata": {},
   "outputs": [],
   "source": [
    "driver.implicitly_wait(30) "
   ]
  },
  {
   "cell_type": "markdown",
   "metadata": {},
   "source": [
    "Bu döngüde sayfada bulunan şarkı sözlerinin linklerini çekiyoruz. "
   ]
  },
  {
   "cell_type": "code",
   "execution_count": null,
   "metadata": {},
   "outputs": [],
   "source": [
    "for i in range(1, 367):\n",
    "    # şarkı sözü sayfaları url kısmında sayısal olarak arttığı için -i- değerini her arttırdığımızda\n",
    "    # yeni bir sayfaya geçmiş oluyoruz.\n",
    "    url = \"https://www.sarkisozleri.bbs.tr/\" + str(i)\n",
    "    # çalıştırdığımız tarayıcı sürücsünün (browser driver) istediğimiz url'e getirmesini söylüyoruz.\n",
    "    driver.get(url)\n",
    "    # sayfa açıldıktan sonra sayfa kaynağını yani ham veriyi beautifulsoup kütüphanesine vererek\n",
    "    # ağaç yapısı başka bir tabirle soup nesnesi olarak alıyoruz.\n",
    "    soup = bs(driver.page_source, \"lxml\")\n",
    "    # sayfada bulunan linkleri taşıyıcı -div- etiketlerini çekiyoruz.\n",
    "    divs = soup.select(\"div.row div\")\n",
    "    # burada döngü kullanarak her bir div'den linki alıp dosyaya yazıyoruz.\n",
    "    for div in divs:\n",
    "        try:\n",
    "            with open(\"urls.txt\", \"a+\", encoding=\"utf-8\") as f:\n",
    "                f.write(\"https://www.sarkisozleri.bbs.tr\" + div.select(\"div div a\")[0].attrs[\"href\"] + \"\\n\")\n",
    "        except Exception as e:\n",
    "            continue"
   ]
  },
  {
   "cell_type": "markdown",
   "metadata": {},
   "source": [
    "Yukarıdaki kod uzun sürüyor ve diğer aşama yukarıdaki kod bitmeden çalışmaması gerekiyor. Bu yöntemi biz belirliyoruz, istersek her bir linki aldıktan sonra o linkteki şarkı sözüne gidip yazabilirdik. Ancak biz şarkı sözlerine ait tüm linkleri aldıktan sonra o linkleri kullanarak şarkı sözlerini sonradan toplamayı tercih ettik."
   ]
  },
  {
   "cell_type": "markdown",
   "metadata": {},
   "source": [
    "-------------------------------------------------------------------------------------------------------------------------"
   ]
  },
  {
   "cell_type": "markdown",
   "metadata": {},
   "source": [
    "Burada dosyaya yazdığımız url'leri okuyoruz."
   ]
  },
  {
   "cell_type": "code",
   "execution_count": null,
   "metadata": {},
   "outputs": [],
   "source": [
    "with open(\"urls.txt\", \"r\", encoding=\"utf-8\") as f:\n",
    "    urls = [url.replace(\"\\n\", \" \") for url in f.readlines()]"
   ]
  },
  {
   "cell_type": "markdown",
   "metadata": {},
   "source": [
    "Burada her bir linkin sayfasına gidip oradaki şarkı sözünü ve şarkı hakkındaki betimleyici bilgiyi alarak json formatında dosyaya yazdırıyoruz. JSON hakkında: http://www.ugurkizmaz.com/YazilimMakale-1878-JSON--JavaScript-Object-Notation--Nedir--Nasil-ve-Nerede-Kullanilir-.aspx"
   ]
  },
  {
   "cell_type": "code",
   "execution_count": null,
   "metadata": {},
   "outputs": [],
   "source": [
    "# bu kısım json formatını koruyabilmek için gerekli.\n",
    "# önce dosyayı açıyoruz, sonra köşeli parantez açıyoruz\n",
    "# her bir şarkıyı kaydettikten sonra virgül koyuyoruz,\n",
    "# en sonda ise sondaki virgülü silip, köşeli parantezi \n",
    "# kapatıyoruz. Bu sayede json formatını korumuş oluyoruz.\n",
    "with open(\"lyrics.json\", \"w+\", encoding=\"utf-8\") as f:\n",
    "    f.write(\"[\\n\")\n",
    "# her bir şarkı sözü linki için olan for döngüsü\n",
    "for url in urls:\n",
    "    # sürücüye şarkı linkini getiriyoruz\n",
    "    driver.get(url)\n",
    "    # sayfa kaynağını beautifulsoup kütüphanesine veriyoruz\n",
    "    soup = bs(driver.page_source, \"lxml\")\n",
    "    # soup değişkenin kullanarak, şarkı sözünü metin şeklinde alıyoruz\n",
    "    text = soup.select(\"#sarki-sozleri div.col-md-6\")[0].getText().strip().replace(\"\\n\", \" \")\n",
    "    # sanatçı ve şarkı ismini alıyoruz\n",
    "    info = soup.select(\"div.page-header h1\")[0].getText().replace(\"\\n\", \" \").strip()\n",
    "    # json haline çeviyoruz\n",
    "    json_lyric = {\"info\": info, \"text\": text}\n",
    "    # dosyaya yazıyoruz\n",
    "    with open(\"lyrics.json\", \"a+\", encoding=\"utf-8\") as f:\n",
    "        f.write(json.dumps(json_lyric) + \",\\n\")\n",
    "# bütün işlem bittikten sonra, dosyayı sondaki virgül olmadan\n",
    "# okuyoruz. Sonra köşeli parantez ekleyerek tekrar yazıyoruz.\n",
    "with open(\"lyrics.json\", \"r\", encoding=\"utf-8\") as f:\n",
    "    tmp = f.read()[:-1]\n",
    "with open(\"lyrcis.json\", \"w+\", encoding=\"utf-8\") as f:\n",
    "    f.write(tmp + \"]\")"
   ]
  }
 ],
 "metadata": {
  "kernelspec": {
   "display_name": "Python 3",
   "language": "python",
   "name": "python3"
  },
  "language_info": {
   "codemirror_mode": {
    "name": "ipython",
    "version": 3
   },
   "file_extension": ".py",
   "mimetype": "text/x-python",
   "name": "python",
   "nbconvert_exporter": "python",
   "pygments_lexer": "ipython3",
   "version": "3.7.0"
  }
 },
 "nbformat": 4,
 "nbformat_minor": 2
}
